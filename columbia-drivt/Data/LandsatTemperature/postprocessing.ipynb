{
 "cells": [
  {
   "cell_type": "code",
   "execution_count": 1,
   "metadata": {},
   "outputs": [
    {
     "name": "stdout",
     "output_type": "stream",
     "text": [
      "Intel MKL WARNING: Support of Intel(R) Streaming SIMD Extensions 4.2 (Intel(R) SSE4.2) enabled only processors has been deprecated. Intel oneAPI Math Kernel Library 2025.0 will require Intel(R) Advanced Vector Extensions (Intel(R) AVX) instructions.\n",
      "Intel MKL WARNING: Support of Intel(R) Streaming SIMD Extensions 4.2 (Intel(R) SSE4.2) enabled only processors has been deprecated. Intel oneAPI Math Kernel Library 2025.0 will require Intel(R) Advanced Vector Extensions (Intel(R) AVX) instructions.\n"
     ]
    }
   ],
   "source": [
    "import pandas as pd\n",
    "import numpy as np\n",
    "import matplotlib.pyplot as plt\n",
    "from pathlib import Path"
   ]
  },
  {
   "cell_type": "code",
   "execution_count": 2,
   "metadata": {},
   "outputs": [],
   "source": [
    "proj_dir = Path('../../')\n",
    "data_fn = Path(\"Data/LandsatTemperature/columbia.csv\")\n",
    "clean_data_fn = Path(\"Data/LandsatTemperature/columbia_clean.csv\")"
   ]
  },
  {
   "cell_type": "code",
   "execution_count": 3,
   "metadata": {},
   "outputs": [
    {
     "data": {
      "text/html": [
       "<div>\n",
       "<style scoped>\n",
       "    .dataframe tbody tr th:only-of-type {\n",
       "        vertical-align: middle;\n",
       "    }\n",
       "\n",
       "    .dataframe tbody tr th {\n",
       "        vertical-align: top;\n",
       "    }\n",
       "\n",
       "    .dataframe thead th {\n",
       "        text-align: right;\n",
       "    }\n",
       "</style>\n",
       "<table border=\"1\" class=\"dataframe\">\n",
       "  <thead>\n",
       "    <tr style=\"text-align: right;\">\n",
       "      <th></th>\n",
       "      <th>ReachID</th>\n",
       "      <th>Date</th>\n",
       "      <th>LandTempC</th>\n",
       "      <th>WaterTempC</th>\n",
       "      <th>NDVI</th>\n",
       "      <th>Mission</th>\n",
       "      <th>Name</th>\n",
       "      <th>ClimateClass</th>\n",
       "      <th>RKm</th>\n",
       "    </tr>\n",
       "  </thead>\n",
       "  <tbody>\n",
       "    <tr>\n",
       "      <th>0</th>\n",
       "      <td>42</td>\n",
       "      <td>2022-02-17</td>\n",
       "      <td>3.94372</td>\n",
       "      <td>5.39979</td>\n",
       "      <td>NaN</td>\n",
       "      <td>L9</td>\n",
       "      <td>Columbia_River_1</td>\n",
       "      <td>9.0</td>\n",
       "      <td>0.0</td>\n",
       "    </tr>\n",
       "    <tr>\n",
       "      <th>1</th>\n",
       "      <td>42</td>\n",
       "      <td>2022-03-05</td>\n",
       "      <td>11.78180</td>\n",
       "      <td>6.21907</td>\n",
       "      <td>0.168393</td>\n",
       "      <td>L9</td>\n",
       "      <td>Columbia_River_1</td>\n",
       "      <td>9.0</td>\n",
       "      <td>0.0</td>\n",
       "    </tr>\n",
       "    <tr>\n",
       "      <th>2</th>\n",
       "      <td>42</td>\n",
       "      <td>2022-04-06</td>\n",
       "      <td>10.65880</td>\n",
       "      <td>4.34301</td>\n",
       "      <td>0.122964</td>\n",
       "      <td>L9</td>\n",
       "      <td>Columbia_River_1</td>\n",
       "      <td>9.0</td>\n",
       "      <td>0.0</td>\n",
       "    </tr>\n",
       "    <tr>\n",
       "      <th>3</th>\n",
       "      <td>42</td>\n",
       "      <td>2022-04-22</td>\n",
       "      <td>18.02620</td>\n",
       "      <td>9.56365</td>\n",
       "      <td>0.113320</td>\n",
       "      <td>L9</td>\n",
       "      <td>Columbia_River_1</td>\n",
       "      <td>9.0</td>\n",
       "      <td>0.0</td>\n",
       "    </tr>\n",
       "    <tr>\n",
       "      <th>4</th>\n",
       "      <td>42</td>\n",
       "      <td>2022-05-08</td>\n",
       "      <td>18.19150</td>\n",
       "      <td>11.31710</td>\n",
       "      <td>0.176089</td>\n",
       "      <td>L9</td>\n",
       "      <td>Columbia_River_1</td>\n",
       "      <td>9.0</td>\n",
       "      <td>0.0</td>\n",
       "    </tr>\n",
       "  </tbody>\n",
       "</table>\n",
       "</div>"
      ],
      "text/plain": [
       "   ReachID       Date  LandTempC  WaterTempC      NDVI Mission  \\\n",
       "0       42 2022-02-17    3.94372     5.39979       NaN      L9   \n",
       "1       42 2022-03-05   11.78180     6.21907  0.168393      L9   \n",
       "2       42 2022-04-06   10.65880     4.34301  0.122964      L9   \n",
       "3       42 2022-04-22   18.02620     9.56365  0.113320      L9   \n",
       "4       42 2022-05-08   18.19150    11.31710  0.176089      L9   \n",
       "\n",
       "               Name  ClimateClass  RKm  \n",
       "0  Columbia_River_1           9.0  0.0  \n",
       "1  Columbia_River_1           9.0  0.0  \n",
       "2  Columbia_River_1           9.0  0.0  \n",
       "3  Columbia_River_1           9.0  0.0  \n",
       "4  Columbia_River_1           9.0  0.0  "
      ]
     },
     "execution_count": 3,
     "metadata": {},
     "output_type": "execute_result"
    }
   ],
   "source": [
    "\n",
    "data = pd.read_csv(proj_dir / data_fn)\n",
    "\n",
    "# Replace \"NULL\" with NaN and convert LandTempC, NDVI, WaterTempC, ClimateClass, RKm to float\n",
    "data = data.replace('NULL', np.nan)\n",
    "data['LandTempC'] = data['LandTempC'].astype(float)\n",
    "data['NDVI'] = data['NDVI'].astype(float)\n",
    "data['WaterTempC'] = data['WaterTempC'].astype(float)\n",
    "data['ClimateClass'] = data['ClimateClass'].astype(float)\n",
    "data['RKm'] = data['RKm'].astype(float)\n",
    "\n",
    "# Convert Date to datetime\n",
    "data['Date'] = pd.to_datetime(data['Date'])\n",
    "\n",
    "data.head()"
   ]
  },
  {
   "cell_type": "code",
   "execution_count": 4,
   "metadata": {},
   "outputs": [],
   "source": [
    "# save the cleaned data with file name columbia_cleaned.csv\n",
    "data.to_csv(proj_dir / clean_data_fn, index=False)"
   ]
  },
  {
   "cell_type": "code",
   "execution_count": null,
   "metadata": {},
   "outputs": [],
   "source": []
  }
 ],
 "metadata": {
  "kernelspec": {
   "display_name": "hydrothermal-history",
   "language": "python",
   "name": "python3"
  },
  "language_info": {
   "codemirror_mode": {
    "name": "ipython",
    "version": 3
   },
   "file_extension": ".py",
   "mimetype": "text/x-python",
   "name": "python",
   "nbconvert_exporter": "python",
   "pygments_lexer": "ipython3",
   "version": "3.11.4"
  }
 },
 "nbformat": 4,
 "nbformat_minor": 2
}
